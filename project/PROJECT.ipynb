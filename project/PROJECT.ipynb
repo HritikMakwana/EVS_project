{
 "cells": [
  {
   "cell_type": "code",
   "execution_count": null,
   "metadata": {},
   "outputs": [],
   "source": [
    "import pandas as pd\n",
    "from neuralprophet import NeuralProphet, set_log_level\n",
    "from matplotlib import pyplot as plt\n",
    "import pickle\n"
   ]
  },
  {
   "cell_type": "code",
   "execution_count": null,
   "id": "6883a9a6",
   "metadata": {},
   "outputs": [],
   "source": [
    "df = pd.read_csv('weather.csv')\n",
    "df.head()"
   ]
  },
  {
   "cell_type": "code",
   "execution_count": null,
   "id": "54a6ede2",
   "metadata": {},
   "outputs": [],
   "source": [
    "df.columns\n",
    "df['Date'] = pd.to_datetime(df['Date'], format='%d-%m-%Y')\n",
    "df.dtypes"
   ]
  },
  {
   "cell_type": "code",
   "execution_count": null,
   "id": "b003c020",
   "metadata": {},
   "outputs": [],
   "source": [
    "df['Year'] = df['Date'].apply(lambda x: x.year)\n",
    "plt.plot(df['Date'], df['Temp avg'])\n",
    "plt.show()"
   ]
  },
  {
   "cell_type": "code",
   "execution_count": null,
   "id": "8e1f6366",
   "metadata": {},
   "outputs": [],
   "source": [
    "data = df[['Date', 'Temp avg']] \n",
    "data.dropna(inplace=True)\n",
    "data.columns = ['ds', 'y'] \n",
    "data"
   ]
  },
  {
   "cell_type": "code",
   "execution_count": null,
   "id": "189c48ec",
   "metadata": {},
   "outputs": [],
   "source": [
    "with open('saved_model.pkl', \"rb\") as f:\n",
    "    m = pickle.load(f)"
   ]
  },
  {
   "cell_type": "code",
   "execution_count": null,
   "id": "66f90386",
   "metadata": {},
   "outputs": [],
   "source": [
    "def restore_trainer(self):\n",
    "        \"\"\"\n",
    "        Restore the trainer based on the forecaster configuration.\n",
    "        \"\"\"\n",
    "        self.trainer, _ = utils.configure_trainer(\n",
    "            config_train=self.config_train,\n",
    "            config=self.trainer_config,\n",
    "            metrics_logger=self.metrics_logger,\n",
    "            early_stopping=self.early_stopping,\n",
    "            accelerator=self.accelerator,\n",
    "            metrics_enabled=bool(self.metrics),\n",
    "        )"
   ]
  },
  {
   "cell_type": "code",
   "execution_count": null,
   "id": "5541263a",
   "metadata": {},
   "outputs": [],
   "source": [
    "m.restore_trainer()"
   ]
  },
  {
   "cell_type": "code",
   "execution_count": null,
   "id": "39c769b0",
   "metadata": {},
   "outputs": [],
   "source": [
    "\n",
    "forecast = m.predict(data)\n",
    "forecast.head()"
   ]
  },
  {
   "cell_type": "code",
   "execution_count": null,
   "id": "0e06e45e",
   "metadata": {},
   "outputs": [],
   "source": [
    "forecast=m.predict(data)\n",
    "m.plot(forecast)"
   ]
  },
  {
   "cell_type": "code",
   "execution_count": null,
   "id": "6f6868db",
   "metadata": {},
   "outputs": [],
   "source": [
    "m.plot_components(forecast)"
   ]
  },
  {
   "cell_type": "code",
   "execution_count": null,
   "id": "e5989703",
   "metadata": {},
   "outputs": [],
   "source": [
    "fu = m.make_future_dataframe(data, periods=1825)\n",
    "fore = m.predict(fu)\n",
    "fore.head()"
   ]
  },
  {
   "cell_type": "code",
   "execution_count": null,
   "id": "60fbe120",
   "metadata": {},
   "outputs": [],
   "source": [
    "\n",
    "m.plot(fore)"
   ]
  },
  {
   "cell_type": "code",
   "execution_count": null,
   "id": "05634c82",
   "metadata": {},
   "outputs": [],
   "source": [
    "\n",
    "m.plot_components(fore)"
   ]
  }
 ],
 "metadata": {
  "language_info": {
   "name": "python"
  }
 },
 "nbformat": 4,
 "nbformat_minor": 5
}
